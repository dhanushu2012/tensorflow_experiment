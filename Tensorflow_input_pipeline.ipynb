{
 "cells": [
  {
   "cell_type": "code",
   "execution_count": 1,
   "id": "399283e4",
   "metadata": {},
   "outputs": [],
   "source": [
    "import tensorflow as tf "
   ]
  },
  {
   "cell_type": "code",
   "execution_count": 2,
   "id": "91c72cb2",
   "metadata": {},
   "outputs": [],
   "source": [
    "daily_sales_numbers = [21,22,-108,31,-1,32,34,31]"
   ]
  },
  {
   "cell_type": "code",
   "execution_count": 3,
   "id": "f7017cc8",
   "metadata": {},
   "outputs": [
    {
     "data": {
      "text/plain": [
       "<TensorSliceDataset shapes: (), types: tf.int32>"
      ]
     },
     "execution_count": 3,
     "metadata": {},
     "output_type": "execute_result"
    }
   ],
   "source": [
    "tf_dataset = tf.data.Dataset.from_tensor_slices(daily_sales_numbers)\n",
    "tf_dataset"
   ]
  },
  {
   "cell_type": "code",
   "execution_count": 4,
   "id": "f214d28d",
   "metadata": {},
   "outputs": [
    {
     "name": "stdout",
     "output_type": "stream",
     "text": [
      "21\n",
      "22\n",
      "-108\n",
      "31\n",
      "-1\n",
      "32\n",
      "34\n",
      "31\n"
     ]
    }
   ],
   "source": [
    "for sales in tf_dataset:\n",
    "    print(sales.numpy())"
   ]
  },
  {
   "cell_type": "code",
   "execution_count": 5,
   "id": "77a9f83e",
   "metadata": {},
   "outputs": [
    {
     "name": "stdout",
     "output_type": "stream",
     "text": [
      "tf.Tensor(21, shape=(), dtype=int32)\n",
      "tf.Tensor(22, shape=(), dtype=int32)\n",
      "tf.Tensor(-108, shape=(), dtype=int32)\n",
      "tf.Tensor(31, shape=(), dtype=int32)\n",
      "tf.Tensor(-1, shape=(), dtype=int32)\n",
      "tf.Tensor(32, shape=(), dtype=int32)\n",
      "tf.Tensor(34, shape=(), dtype=int32)\n",
      "tf.Tensor(31, shape=(), dtype=int32)\n"
     ]
    }
   ],
   "source": [
    "for sales in tf_dataset:\n",
    "    print(sales)"
   ]
  },
  {
   "cell_type": "code",
   "execution_count": 6,
   "id": "48495d79",
   "metadata": {},
   "outputs": [
    {
     "name": "stdout",
     "output_type": "stream",
     "text": [
      "21\n",
      "22\n",
      "-108\n",
      "31\n",
      "-1\n",
      "32\n",
      "34\n",
      "31\n"
     ]
    }
   ],
   "source": [
    "for sales in tf_dataset.as_numpy_iterator():\n",
    "    print(sales)"
   ]
  },
  {
   "cell_type": "code",
   "execution_count": 7,
   "id": "98b062c9",
   "metadata": {},
   "outputs": [
    {
     "name": "stdout",
     "output_type": "stream",
     "text": [
      "21\n",
      "22\n",
      "-108\n"
     ]
    }
   ],
   "source": [
    "for sales in tf_dataset.take(3):\n",
    "    print(sales.numpy())"
   ]
  },
  {
   "cell_type": "code",
   "execution_count": 8,
   "id": "aad301e3",
   "metadata": {},
   "outputs": [
    {
     "name": "stdout",
     "output_type": "stream",
     "text": [
      "21\n",
      "22\n",
      "31\n",
      "32\n",
      "34\n",
      "31\n"
     ]
    }
   ],
   "source": [
    "tf_dataset = tf_dataset.filter(lambda x:x>0)\n",
    "for sales in tf_dataset.as_numpy_iterator():\n",
    "    print(sales)"
   ]
  },
  {
   "cell_type": "code",
   "execution_count": 9,
   "id": "03ac21e1",
   "metadata": {},
   "outputs": [
    {
     "name": "stdout",
     "output_type": "stream",
     "text": [
      "1512\n",
      "1584\n",
      "2232\n",
      "2304\n",
      "2448\n",
      "2232\n"
     ]
    }
   ],
   "source": [
    "tf_dataset = tf_dataset.map (lambda x: x*72)\n",
    "for sales in tf_dataset.as_numpy_iterator():\n",
    "    print(sales)"
   ]
  },
  {
   "cell_type": "code",
   "execution_count": 10,
   "id": "d6b98a89",
   "metadata": {},
   "outputs": [
    {
     "name": "stdout",
     "output_type": "stream",
     "text": [
      "1512\n",
      "1584\n",
      "2304\n",
      "2232\n",
      "2232\n",
      "2448\n"
     ]
    }
   ],
   "source": [
    "tf_dataset = tf_dataset.shuffle(2)\n",
    "for sales in tf_dataset.as_numpy_iterator():\n",
    "    print(sales)"
   ]
  },
  {
   "cell_type": "code",
   "execution_count": 11,
   "id": "4b90308c",
   "metadata": {},
   "outputs": [
    {
     "name": "stdout",
     "output_type": "stream",
     "text": [
      "1512\n",
      "1584\n",
      "2304\n",
      "2232\n",
      "2232\n",
      "2448\n"
     ]
    }
   ],
   "source": [
    "tf_dataset = tf_dataset.shuffle(3)\n",
    "for sales in tf_dataset.as_numpy_iterator():\n",
    "    print(sales)"
   ]
  },
  {
   "cell_type": "code",
   "execution_count": 12,
   "id": "f0063cfc",
   "metadata": {},
   "outputs": [
    {
     "name": "stdout",
     "output_type": "stream",
     "text": [
      "[1512 1584 2448 2232]\n",
      "[2304 2232]\n"
     ]
    }
   ],
   "source": [
    "for sales_batch in tf_dataset.batch(4):\n",
    "    print(sales_batch.numpy())"
   ]
  },
  {
   "cell_type": "code",
   "execution_count": 13,
   "id": "b2af1bd7",
   "metadata": {},
   "outputs": [
    {
     "name": "stdout",
     "output_type": "stream",
     "text": [
      "WARNING:tensorflow:AutoGraph could not transform <function <lambda> at 0x000002B19BC9CC10> and will run it as-is.\n",
      "Cause: could not parse the source code of <function <lambda> at 0x000002B19BC9CC10>: found multiple definitions with identical signatures at the location. This error may be avoided by defining each lambda on a single line and with unique argument names.\n",
      "Match 0:\n",
      "(lambda x: (x * 72))\n",
      "\n",
      "Match 1:\n",
      "(lambda x: (x > 0))\n",
      "\n",
      "To silence this warning, decorate the function with @tf.autograph.experimental.do_not_convert\n",
      "WARNING: AutoGraph could not transform <function <lambda> at 0x000002B19BC9CC10> and will run it as-is.\n",
      "Cause: could not parse the source code of <function <lambda> at 0x000002B19BC9CC10>: found multiple definitions with identical signatures at the location. This error may be avoided by defining each lambda on a single line and with unique argument names.\n",
      "Match 0:\n",
      "(lambda x: (x * 72))\n",
      "\n",
      "Match 1:\n",
      "(lambda x: (x > 0))\n",
      "\n",
      "To silence this warning, decorate the function with @tf.autograph.experimental.do_not_convert\n",
      "WARNING:tensorflow:AutoGraph could not transform <function <lambda> at 0x000002B19BC0A4C0> and will run it as-is.\n",
      "Cause: could not parse the source code of <function <lambda> at 0x000002B19BC0A4C0>: found multiple definitions with identical signatures at the location. This error may be avoided by defining each lambda on a single line and with unique argument names.\n",
      "Match 0:\n",
      "(lambda x: (x * 72))\n",
      "\n",
      "Match 1:\n",
      "(lambda x: (x > 0))\n",
      "\n",
      "To silence this warning, decorate the function with @tf.autograph.experimental.do_not_convert\n",
      "WARNING: AutoGraph could not transform <function <lambda> at 0x000002B19BC0A4C0> and will run it as-is.\n",
      "Cause: could not parse the source code of <function <lambda> at 0x000002B19BC0A4C0>: found multiple definitions with identical signatures at the location. This error may be avoided by defining each lambda on a single line and with unique argument names.\n",
      "Match 0:\n",
      "(lambda x: (x * 72))\n",
      "\n",
      "Match 1:\n",
      "(lambda x: (x > 0))\n",
      "\n",
      "To silence this warning, decorate the function with @tf.autograph.experimental.do_not_convert\n"
     ]
    }
   ],
   "source": [
    "tf_dataset = tf.data.Dataset.from_tensor_slices(daily_sales_numbers)\n",
    "\n",
    "tf_dataset = tf_dataset.filter(lambda x: x>0).map(lambda x:x*72).shuffle(2).batch(2)"
   ]
  },
  {
   "cell_type": "code",
   "execution_count": 14,
   "id": "4baa2944",
   "metadata": {},
   "outputs": [
    {
     "name": "stdout",
     "output_type": "stream",
     "text": [
      "[1584 1512]\n",
      "[2304 2448]\n",
      "[2232 2232]\n"
     ]
    }
   ],
   "source": [
    "tf_dataset = tf.data.Dataset.from_tensor_slices(daily_sales_numbers)\n",
    "\n",
    "tf_dataset = tf_dataset.filter(lambda x: x>0).map(lambda y:y*72).shuffle(2).batch(2)\n",
    "\n",
    "for sales in tf_dataset.as_numpy_iterator():\n",
    "    print(sales)"
   ]
  },
  {
   "cell_type": "code",
   "execution_count": 17,
   "id": "36c48dc4",
   "metadata": {},
   "outputs": [
    {
     "name": "stdout",
     "output_type": "stream",
     "text": [
      "b'images\\\\Healthy Wheat\\\\00661.png'\n",
      "b'images\\\\Healthy Wheat\\\\00671.jfif'\n",
      "b'images\\\\Healthy Wheat\\\\00681.jfif'\n",
      "b'images\\\\Healthy Wheat\\\\00721.jfif'\n",
      "b'images\\\\Healthy Wheat\\\\00721.jpg'\n"
     ]
    }
   ],
   "source": [
    "images_ds=tf.data.Dataset.list_files('images/*/*', shuffle=False)\n",
    "\n",
    "for file in images_ds.take(5):\n",
    "    print(file.numpy())"
   ]
  },
  {
   "cell_type": "code",
   "execution_count": 18,
   "id": "bccbfefb",
   "metadata": {},
   "outputs": [],
   "source": [
    "class_names = [\"Healthy Wheat\",\"Unhealthy wheat\"]"
   ]
  },
  {
   "cell_type": "code",
   "execution_count": 19,
   "id": "ae6c6bc7",
   "metadata": {},
   "outputs": [
    {
     "data": {
      "text/plain": [
       "3073"
      ]
     },
     "execution_count": 19,
     "metadata": {},
     "output_type": "execute_result"
    }
   ],
   "source": [
    "image_count = len(images_ds)\n",
    "image_count"
   ]
  },
  {
   "cell_type": "code",
   "execution_count": 21,
   "id": "1015d25e",
   "metadata": {},
   "outputs": [],
   "source": [
    "train_size = int(image_count*0.8)\n",
    "\n",
    "train_ds = images_ds.take(train_size)\n",
    "test_ds = images_ds.skip(train_size)"
   ]
  },
  {
   "cell_type": "code",
   "execution_count": 22,
   "id": "94da17f7",
   "metadata": {},
   "outputs": [
    {
     "data": {
      "text/plain": [
       "2458"
      ]
     },
     "execution_count": 22,
     "metadata": {},
     "output_type": "execute_result"
    }
   ],
   "source": [
    "len(train_ds)"
   ]
  },
  {
   "cell_type": "code",
   "execution_count": 23,
   "id": "ade7f1bb",
   "metadata": {},
   "outputs": [
    {
     "data": {
      "text/plain": [
       "615"
      ]
     },
     "execution_count": 23,
     "metadata": {},
     "output_type": "execute_result"
    }
   ],
   "source": [
    "len(test_ds)"
   ]
  },
  {
   "cell_type": "code",
   "execution_count": 24,
   "id": "44b5ad3b",
   "metadata": {},
   "outputs": [
    {
     "data": {
      "text/plain": [
       "['images', 'Healthy Wheat', '00661.png']"
      ]
     },
     "execution_count": 24,
     "metadata": {},
     "output_type": "execute_result"
    }
   ],
   "source": [
    "s = 'images\\\\Healthy Wheat\\\\00661.png'\n",
    "\n",
    "s.split(\"\\\\\")"
   ]
  },
  {
   "cell_type": "code",
   "execution_count": 25,
   "id": "2e46038a",
   "metadata": {},
   "outputs": [
    {
     "data": {
      "text/plain": [
       "'Healthy Wheat'"
      ]
     },
     "execution_count": 25,
     "metadata": {},
     "output_type": "execute_result"
    }
   ],
   "source": [
    "s.split(\"\\\\\")[-2]"
   ]
  },
  {
   "cell_type": "code",
   "execution_count": 26,
   "id": "a67617ab",
   "metadata": {},
   "outputs": [],
   "source": [
    "def get_label(file_path):\n",
    "    return file_path.split(\"\\\\\")[-2]"
   ]
  },
  {
   "cell_type": "code",
   "execution_count": 30,
   "id": "13dafa07",
   "metadata": {},
   "outputs": [],
   "source": [
    "def get_label(file_path):\n",
    "    import os\n",
    "    return tf.strings.split(file_path, os.path.sep)[-2]"
   ]
  },
  {
   "cell_type": "code",
   "execution_count": 33,
   "id": "be8fea71",
   "metadata": {},
   "outputs": [],
   "source": [
    "def process_image(file_path):\n",
    "    label = get_label(file_path)\n",
    "    \n",
    "    img = tf.io.read_file(file_path)\n",
    "    img = tf.image.decode_jpeg(img)\n",
    "    img = tf.image.resize(img, [128,128])\n",
    "    \n",
    "    return img, label"
   ]
  },
  {
   "cell_type": "code",
   "execution_count": 27,
   "id": "bf7a29d0",
   "metadata": {},
   "outputs": [
    {
     "name": "stdout",
     "output_type": "stream",
     "text": [
      "b'images\\\\Healthy Wheat\\\\00661.png'\n",
      "b'images\\\\Healthy Wheat\\\\00671.jfif'\n",
      "b'images\\\\Healthy Wheat\\\\00681.jfif'\n",
      "b'images\\\\Healthy Wheat\\\\00721.jfif'\n"
     ]
    }
   ],
   "source": [
    "for t in train_ds.take(4):\n",
    "    print(t.numpy())"
   ]
  },
  {
   "cell_type": "code",
   "execution_count": 35,
   "id": "87a2a358",
   "metadata": {},
   "outputs": [
    {
     "name": "stdout",
     "output_type": "stream",
     "text": [
      "Image:  tf.Tensor(\n",
      "[[[ 53.60913    89.50513   151.84375  ]\n",
      "  [ 54.952393   89.406494  152.46826  ]\n",
      "  [ 57.79126    92.20874   155.91187  ]\n",
      "  ...\n",
      "  [ 53.670654   88.38501   146.59375  ]\n",
      "  [ 52.593506   87.125     147.98462  ]\n",
      "  [ 53.354004   87.95825   146.94287  ]]\n",
      "\n",
      " [[ 53.3125     89.82739   152.06201  ]\n",
      "  [ 57.202393   89.48511   153.10938  ]\n",
      "  [ 55.418213   92.109375  154.7356   ]\n",
      "  ...\n",
      "  [ 54.         89.296875  149.01196  ]\n",
      "  [ 53.936768   88.75073   146.70459  ]\n",
      "  [ 53.124268   87.68701   143.67163  ]]\n",
      "\n",
      " [[ 52.443115   88.890625  153.93188  ]\n",
      "  [ 57.875      90.578125  154.       ]\n",
      "  [ 54.3313     91.3313    154.       ]\n",
      "  ...\n",
      "  [ 55.493896   90.846924  149.44067  ]\n",
      "  [ 54.235596   89.28003   150.50244  ]\n",
      "  [ 52.140625   90.370605  148.02246  ]]\n",
      "\n",
      " ...\n",
      "\n",
      " [[117.683105  153.69751   204.79688  ]\n",
      "  [120.578125  155.77759   206.49756  ]\n",
      "  [121.49365   158.        208.       ]\n",
      "  ...\n",
      "  [  8.568848    4.153076    2.8562012]\n",
      "  [ 13.883301    7.2438965   3.9819336]\n",
      "  [ 20.762451   11.089355    6.130615 ]]\n",
      "\n",
      " [[117.4375    157.49951   207.07861  ]\n",
      "  [120.97095   157.01709   207.06323  ]\n",
      "  [122.76807   158.        208.       ]\n",
      "  ...\n",
      "  [ 22.49878    11.826904    4.890625 ]\n",
      "  [  8.561035    4.5148926   1.5610352]\n",
      "  [  8.624756    4.          2.9060059]]\n",
      "\n",
      " [[116.95825   155.79175   205.552    ]\n",
      "  [121.07715   157.57812   206.29663  ]\n",
      "  [120.19751   158.8794    208.37378  ]\n",
      "  ...\n",
      "  [  7.7143555   4.4174805   2.4174805]\n",
      "  [  8.468018    4.703125    2.5935059]\n",
      "  [ 14.625244    6.661377    4.40625  ]]], shape=(128, 128, 3), dtype=float32)\n",
      "Label:  tf.Tensor(b'Healthy Wheat', shape=(), dtype=string)\n",
      "Image:  tf.Tensor(\n",
      "[[[126.58151  150.58151  116.58151 ]\n",
      "  [132.30801  156.30801  122.308014]\n",
      "  [111.56903  135.56903  100.263306]\n",
      "  ...\n",
      "  [146.16177  167.16177  124.16177 ]\n",
      "  [133.15485  155.60797  104.11578 ]\n",
      "  [156.51996  181.26215  116.80902 ]]\n",
      "\n",
      " [[129.99796  154.53311  116.92764 ]\n",
      "  [ 79.83478  104.369934  66.764465]\n",
      "  [ 85.186035 110.186035  70.65088 ]\n",
      "  ...\n",
      "  [136.99524  157.99524  114.99524 ]\n",
      "  [118.345795 140.67767   91.42798 ]\n",
      "  [190.37262  214.57965  153.64621 ]]\n",
      "\n",
      " [[169.84592  195.40451  152.61154 ]\n",
      "  [138.58282  164.14142  121.34845 ]\n",
      "  [115.13138  140.68997   97.01419 ]\n",
      "  ...\n",
      "  [138.29962  159.29962  116.29962 ]\n",
      "  [141.27716  163.50372  115.602936]\n",
      "  [175.8389   199.1665   144.1441  ]]\n",
      "\n",
      " ...\n",
      "\n",
      " [[ 39.089386  51.765167  21.694061]\n",
      "  [ 47.515656  59.7594    29.179718]\n",
      "  [ 37.357056  48.293243  21.2789  ]\n",
      "  ...\n",
      "  [208.86203  225.24362  180.07819 ]\n",
      "  [228.09924  244.38593  201.27661 ]\n",
      "  [200.55493  215.95676  177.71457 ]]\n",
      "\n",
      " [[116.242004 128.63654   96.17169 ]\n",
      "  [109.98569  122.38022   90.743195]\n",
      "  [109.32791  121.65213   91.86307 ]\n",
      "  ...\n",
      "  [218.57718  235.97952  188.6022  ]\n",
      "  [223.74991  239.97647  201.89865 ]\n",
      "  [149.08289  167.11789  133.32758 ]]\n",
      "\n",
      " [[ 71.26849   85.26849   52.268494]\n",
      "  [ 46.475464  61.2489    28.248901]\n",
      "  [ 55.497894  71.07602   37.20883 ]\n",
      "  ...\n",
      "  [219.01797  236.17422  184.54922 ]\n",
      "  [202.66446  218.79727  180.2504  ]\n",
      "  [108.51907  130.00345   93.745636]]], shape=(128, 128, 3), dtype=float32)\n",
      "Label:  tf.Tensor(b'Healthy Wheat', shape=(), dtype=string)\n",
      "Image:  tf.Tensor(\n",
      "[[[191.74133  200.2804   148.20227 ]\n",
      "  [184.65253  193.65253  137.99835 ]\n",
      "  [172.27515  182.27515  120.11542 ]\n",
      "  ...\n",
      "  [178.22656  189.22656  133.22656 ]\n",
      "  [188.83905  199.83905  141.07343 ]\n",
      "  [165.53351  179.53351  118.07257 ]]\n",
      "\n",
      " [[169.53693  178.41089  124.87964 ]\n",
      "  [170.27661  179.72504  121.58911 ]\n",
      "  [180.50787  191.01306  126.66412 ]\n",
      "  ...\n",
      "  [181.98431  192.98431  136.54156 ]\n",
      "  [179.914    190.914    132.14838 ]\n",
      "  [150.82031  164.82031  103.359375]]\n",
      "\n",
      " [[191.62769  201.2605   143.20581 ]\n",
      "  [173.513    183.93488  122.34375 ]\n",
      "  [166.35303  177.7749   109.89813 ]\n",
      "  ...\n",
      "  [188.32458  199.32458  141.32458 ]\n",
      "  [173.16669  184.16669  125.140686]\n",
      "  [170.62848  184.62848  123.26477 ]]\n",
      "\n",
      " ...\n",
      "\n",
      " [[ 56.368713  83.36871   30.368713]\n",
      "  [ 96.19049  123.19049   72.19049 ]\n",
      "  [ 69.32971   94.76117   47.054504]\n",
      "  ...\n",
      "  [ 84.09198  107.513855  65.326355]\n",
      "  [ 88.085815 109.50769   66.29675 ]\n",
      "  [ 47.70923   68.70923   28.436646]]\n",
      "\n",
      " [[ 60.432312  87.97919   32.9422  ]\n",
      "  [ 70.821594  98.36847   45.78253 ]\n",
      "  [ 91.17023  117.66504   68.1806  ]\n",
      "  ...\n",
      "  [136.29382  159.02039  114.47351 ]\n",
      "  [106.315796 127.315796  85.08142 ]\n",
      "  [ 50.007324  70.060974  32.594788]]\n",
      "\n",
      " [[ 71.24951  101.007324  41.4917  ]\n",
      "  [ 54.372314  83.372314  27.671265]\n",
      "  [105.516785 132.51678   81.516785]\n",
      "  ...\n",
      "  [115.22839  137.2284    91.22839 ]\n",
      "  [139.33582  160.33582  118.10144 ]\n",
      "  [ 39.664246  57.20331   21.01825 ]]], shape=(128, 128, 3), dtype=float32)\n",
      "Label:  tf.Tensor(b'Healthy Wheat', shape=(), dtype=string)\n"
     ]
    }
   ],
   "source": [
    "for img, label in train_ds.map(process_image).take(3):\n",
    "    print(\"Image: \",img)\n",
    "    print(\"Label: \",label)"
   ]
  },
  {
   "cell_type": "code",
   "execution_count": 37,
   "id": "7068276c",
   "metadata": {},
   "outputs": [
    {
     "name": "stdout",
     "output_type": "stream",
     "text": [
      "Image:  tf.Tensor(\n",
      "[[[ 53.60913    89.50513   151.84375  ]\n",
      "  [ 54.952393   89.406494  152.46826  ]\n",
      "  [ 57.79126    92.20874   155.91187  ]\n",
      "  ...\n",
      "  [ 53.670654   88.38501   146.59375  ]\n",
      "  [ 52.593506   87.125     147.98462  ]\n",
      "  [ 53.354004   87.95825   146.94287  ]]\n",
      "\n",
      " [[ 53.3125     89.82739   152.06201  ]\n",
      "  [ 57.202393   89.48511   153.10938  ]\n",
      "  [ 55.418213   92.109375  154.7356   ]\n",
      "  ...\n",
      "  [ 54.         89.296875  149.01196  ]\n",
      "  [ 53.936768   88.75073   146.70459  ]\n",
      "  [ 53.124268   87.68701   143.67163  ]]\n",
      "\n",
      " [[ 52.443115   88.890625  153.93188  ]\n",
      "  [ 57.875      90.578125  154.       ]\n",
      "  [ 54.3313     91.3313    154.       ]\n",
      "  ...\n",
      "  [ 55.493896   90.846924  149.44067  ]\n",
      "  [ 54.235596   89.28003   150.50244  ]\n",
      "  [ 52.140625   90.370605  148.02246  ]]\n",
      "\n",
      " ...\n",
      "\n",
      " [[117.683105  153.69751   204.79688  ]\n",
      "  [120.578125  155.77759   206.49756  ]\n",
      "  [121.49365   158.        208.       ]\n",
      "  ...\n",
      "  [  8.568848    4.153076    2.8562012]\n",
      "  [ 13.883301    7.2438965   3.9819336]\n",
      "  [ 20.762451   11.089355    6.130615 ]]\n",
      "\n",
      " [[117.4375    157.49951   207.07861  ]\n",
      "  [120.97095   157.01709   207.06323  ]\n",
      "  [122.76807   158.        208.       ]\n",
      "  ...\n",
      "  [ 22.49878    11.826904    4.890625 ]\n",
      "  [  8.561035    4.5148926   1.5610352]\n",
      "  [  8.624756    4.          2.9060059]]\n",
      "\n",
      " [[116.95825   155.79175   205.552    ]\n",
      "  [121.07715   157.57812   206.29663  ]\n",
      "  [120.19751   158.8794    208.37378  ]\n",
      "  ...\n",
      "  [  7.7143555   4.4174805   2.4174805]\n",
      "  [  8.468018    4.703125    2.5935059]\n",
      "  [ 14.625244    6.661377    4.40625  ]]], shape=(128, 128, 3), dtype=float32)\n",
      "Label:  tf.Tensor(b'Healthy Wheat', shape=(), dtype=string)\n",
      "Image:  tf.Tensor(\n",
      "[[[126.58151  150.58151  116.58151 ]\n",
      "  [132.30801  156.30801  122.308014]\n",
      "  [111.56903  135.56903  100.263306]\n",
      "  ...\n",
      "  [146.16177  167.16177  124.16177 ]\n",
      "  [133.15485  155.60797  104.11578 ]\n",
      "  [156.51996  181.26215  116.80902 ]]\n",
      "\n",
      " [[129.99796  154.53311  116.92764 ]\n",
      "  [ 79.83478  104.369934  66.764465]\n",
      "  [ 85.186035 110.186035  70.65088 ]\n",
      "  ...\n",
      "  [136.99524  157.99524  114.99524 ]\n",
      "  [118.345795 140.67767   91.42798 ]\n",
      "  [190.37262  214.57965  153.64621 ]]\n",
      "\n",
      " [[169.84592  195.40451  152.61154 ]\n",
      "  [138.58282  164.14142  121.34845 ]\n",
      "  [115.13138  140.68997   97.01419 ]\n",
      "  ...\n",
      "  [138.29962  159.29962  116.29962 ]\n",
      "  [141.27716  163.50372  115.602936]\n",
      "  [175.8389   199.1665   144.1441  ]]\n",
      "\n",
      " ...\n",
      "\n",
      " [[ 39.089386  51.765167  21.694061]\n",
      "  [ 47.515656  59.7594    29.179718]\n",
      "  [ 37.357056  48.293243  21.2789  ]\n",
      "  ...\n",
      "  [208.86203  225.24362  180.07819 ]\n",
      "  [228.09924  244.38593  201.27661 ]\n",
      "  [200.55493  215.95676  177.71457 ]]\n",
      "\n",
      " [[116.242004 128.63654   96.17169 ]\n",
      "  [109.98569  122.38022   90.743195]\n",
      "  [109.32791  121.65213   91.86307 ]\n",
      "  ...\n",
      "  [218.57718  235.97952  188.6022  ]\n",
      "  [223.74991  239.97647  201.89865 ]\n",
      "  [149.08289  167.11789  133.32758 ]]\n",
      "\n",
      " [[ 71.26849   85.26849   52.268494]\n",
      "  [ 46.475464  61.2489    28.248901]\n",
      "  [ 55.497894  71.07602   37.20883 ]\n",
      "  ...\n",
      "  [219.01797  236.17422  184.54922 ]\n",
      "  [202.66446  218.79727  180.2504  ]\n",
      "  [108.51907  130.00345   93.745636]]], shape=(128, 128, 3), dtype=float32)\n",
      "Label:  tf.Tensor(b'Healthy Wheat', shape=(), dtype=string)\n",
      "Image:  tf.Tensor(\n",
      "[[[191.74133  200.2804   148.20227 ]\n",
      "  [184.65253  193.65253  137.99835 ]\n",
      "  [172.27515  182.27515  120.11542 ]\n",
      "  ...\n",
      "  [178.22656  189.22656  133.22656 ]\n",
      "  [188.83905  199.83905  141.07343 ]\n",
      "  [165.53351  179.53351  118.07257 ]]\n",
      "\n",
      " [[169.53693  178.41089  124.87964 ]\n",
      "  [170.27661  179.72504  121.58911 ]\n",
      "  [180.50787  191.01306  126.66412 ]\n",
      "  ...\n",
      "  [181.98431  192.98431  136.54156 ]\n",
      "  [179.914    190.914    132.14838 ]\n",
      "  [150.82031  164.82031  103.359375]]\n",
      "\n",
      " [[191.62769  201.2605   143.20581 ]\n",
      "  [173.513    183.93488  122.34375 ]\n",
      "  [166.35303  177.7749   109.89813 ]\n",
      "  ...\n",
      "  [188.32458  199.32458  141.32458 ]\n",
      "  [173.16669  184.16669  125.140686]\n",
      "  [170.62848  184.62848  123.26477 ]]\n",
      "\n",
      " ...\n",
      "\n",
      " [[ 56.368713  83.36871   30.368713]\n",
      "  [ 96.19049  123.19049   72.19049 ]\n",
      "  [ 69.32971   94.76117   47.054504]\n",
      "  ...\n",
      "  [ 84.09198  107.513855  65.326355]\n",
      "  [ 88.085815 109.50769   66.29675 ]\n",
      "  [ 47.70923   68.70923   28.436646]]\n",
      "\n",
      " [[ 60.432312  87.97919   32.9422  ]\n",
      "  [ 70.821594  98.36847   45.78253 ]\n",
      "  [ 91.17023  117.66504   68.1806  ]\n",
      "  ...\n",
      "  [136.29382  159.02039  114.47351 ]\n",
      "  [106.315796 127.315796  85.08142 ]\n",
      "  [ 50.007324  70.060974  32.594788]]\n",
      "\n",
      " [[ 71.24951  101.007324  41.4917  ]\n",
      "  [ 54.372314  83.372314  27.671265]\n",
      "  [105.516785 132.51678   81.516785]\n",
      "  ...\n",
      "  [115.22839  137.2284    91.22839 ]\n",
      "  [139.33582  160.33582  118.10144 ]\n",
      "  [ 39.664246  57.20331   21.01825 ]]], shape=(128, 128, 3), dtype=float32)\n",
      "Label:  tf.Tensor(b'Healthy Wheat', shape=(), dtype=string)\n"
     ]
    }
   ],
   "source": [
    "train_ds = train_ds.map(process_image)\n",
    "for img, label in train_ds.take(3):\n",
    "    print(\"Image: \",img)\n",
    "    print(\"Label: \",label)"
   ]
  },
  {
   "cell_type": "code",
   "execution_count": 36,
   "id": "f5092069",
   "metadata": {},
   "outputs": [],
   "source": [
    "def scale(image, label):\n",
    "    return image/255, label"
   ]
  },
  {
   "cell_type": "code",
   "execution_count": 38,
   "id": "216ca5f8",
   "metadata": {},
   "outputs": [
    {
     "name": "stdout",
     "output_type": "stream",
     "text": [
      "****Image:  [0.21023189 0.3510005  0.59546566]\n",
      "****Label:  b'Healthy Wheat'\n",
      "****Image:  [0.4963981  0.59051573 0.4571824 ]\n",
      "****Label:  b'Healthy Wheat'\n",
      "****Image:  [0.7519268 0.7854133 0.5811854]\n",
      "****Label:  b'Healthy Wheat'\n",
      "****Image:  [0.289022   0.46941414 0.31647298]\n",
      "****Label:  b'Healthy Wheat'\n",
      "****Image:  [0.16560969 0.18129596 0.08325674]\n",
      "****Label:  b'Healthy Wheat'\n"
     ]
    }
   ],
   "source": [
    "train_ds = train_ds.map(scale)\n",
    "for image,label in train_ds.take(5):\n",
    "    print(\"****Image: \",image.numpy()[0][0])\n",
    "    print(\"****Label: \",label.numpy())"
   ]
  },
  {
   "cell_type": "code",
   "execution_count": null,
   "id": "8a7c3415",
   "metadata": {},
   "outputs": [],
   "source": []
  }
 ],
 "metadata": {
  "kernelspec": {
   "display_name": "Python 3",
   "language": "python",
   "name": "python3"
  },
  "language_info": {
   "codemirror_mode": {
    "name": "ipython",
    "version": 3
   },
   "file_extension": ".py",
   "mimetype": "text/x-python",
   "name": "python",
   "nbconvert_exporter": "python",
   "pygments_lexer": "ipython3",
   "version": "3.8.8"
  }
 },
 "nbformat": 4,
 "nbformat_minor": 5
}
